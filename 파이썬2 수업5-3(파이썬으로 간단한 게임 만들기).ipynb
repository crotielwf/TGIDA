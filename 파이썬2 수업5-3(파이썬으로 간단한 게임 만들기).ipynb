{
 "cells": [
  {
   "cell_type": "code",
   "execution_count": 1,
   "metadata": {
    "collapsed": true
   },
   "outputs": [],
   "source": [
    "#파이썬으로 간단한 게임 만들기\n",
    "#혼자 하는 계단 오르기 게임\n",
    "#동전 던져서 승부\n",
    "#(70%)확률 앞면 나오면 앞으로 두걸음\n",
    "#(30%)확률 뒷명 나오면 뒤로 한걸음\n",
    "#목표점 도달하면 종료\n",
    "#시작점보다 더 뒤로 가는 것은 불가능\n"
   ]
  },
  {
   "cell_type": "code",
   "execution_count": 2,
   "metadata": {},
   "outputs": [
    {
     "name": "stdout",
     "output_type": "stream",
     "text": [
      "0.5087825671683066\n",
      "0.8545312732052952\n",
      "0.4131158148597056\n",
      "0.04867221274212419\n",
      "0.24283663605410277\n",
      "0.7278376989226493\n",
      "0.8444910435059383\n",
      "0.822156700167029\n",
      "0.5780256249478036\n",
      "0.3926690576488776\n"
     ]
    }
   ],
   "source": [
    "#첫번째 조각 동전던지기 함수\n",
    "\n",
    "#입력 -> fn -> 출력\n",
    "#없음          70% 확률로 승리 혹은 30% 확률로 패배\n",
    "#랜덤이라는 라이브러리 사용하면 처리 가능\n",
    "import random\n",
    "for i in range(10):\n",
    "    print(random.random())"
   ]
  },
  {
   "cell_type": "code",
   "execution_count": 3,
   "metadata": {
    "collapsed": true
   },
   "outputs": [],
   "source": [
    "def coinToss():\n",
    "    import random\n",
    "    coin=random.random()\n",
    "    if coin>=0.3: #coin이 70%확률로 이기는 확률.\n",
    "        result = 'Win'\n",
    "    else: #coin이 30% 확률로 이길확률\n",
    "        result= 'Lose'\n",
    "    return result"
   ]
  },
  {
   "cell_type": "code",
   "execution_count": 4,
   "metadata": {},
   "outputs": [
    {
     "data": {
      "text/plain": [
       "'Win'"
      ]
     },
     "execution_count": 4,
     "metadata": {},
     "output_type": "execute_result"
    }
   ],
   "source": [
    "coinToss()"
   ]
  },
  {
   "cell_type": "code",
   "execution_count": 5,
   "metadata": {},
   "outputs": [
    {
     "name": "stdout",
     "output_type": "stream",
     "text": [
      "{'Win': 7024, 'Lose': 2976}\n"
     ]
    }
   ],
   "source": [
    "d={\"Win\":0,\"Lose\":0}\n",
    "for i in range(10000):\n",
    "    d[coinToss()] +=1\n",
    "print(d)"
   ]
  },
  {
   "cell_type": "code",
   "execution_count": 6,
   "metadata": {
    "collapsed": true
   },
   "outputs": [],
   "source": [
    "#def coinToss():\n",
    "#    import random\n",
    "#    \n",
    "#    value=random.random()\n",
    "#    if(value>0.3):\n",
    "#        return\"Win\"\n",
    "#    else:\n",
    "#        return\"Lose\""
   ]
  },
  {
   "cell_type": "code",
   "execution_count": 7,
   "metadata": {
    "collapsed": true
   },
   "outputs": [],
   "source": [
    "#두번째 조각\n",
    "#입력        출력\n",
    "#위치  fn    지도\n",
    "\n",
    "\n",
    "#길이가 51인 문자열 반환\n",
    "#입력값location은 $로 표시\n",
    "#맨 앞문자와 맨 끝문자는 \"|\"\n",
    "\n",
    "def drawMap(location):\n",
    "    l=[]\n",
    "    for i in range(51):\n",
    "        l.append(\" \")\n",
    "    l[0]=\"|\"\n",
    "    l[50]=\"|\"\n",
    "    l[location]=\"$\"\n",
    "    return ''.join(l)"
   ]
  },
  {
   "cell_type": "code",
   "execution_count": 8,
   "metadata": {},
   "outputs": [
    {
     "name": "stdout",
     "output_type": "stream",
     "text": [
      "|                                                 |\n"
     ]
    }
   ],
   "source": [
    "#좋지 않은 예\n",
    "s=\"{0}{1:49}{0}\".format(\"|\",\"\")\n",
    "print(s)\n"
   ]
  },
  {
   "cell_type": "code",
   "execution_count": 9,
   "metadata": {
    "scrolled": true
   },
   "outputs": [
    {
     "name": "stdout",
     "output_type": "stream",
     "text": [
      "게임을 시작하지..\n",
      "\n",
      "|$                                                |\n",
      "|  $                                              |\n",
      "|    $                                            |\n",
      "|   $                                             |\n",
      "|     $                                           |\n",
      "|       $                                         |\n",
      "|      $                                          |\n",
      "|        $                                        |\n",
      "|       $                                         |\n",
      "|         $                                       |\n",
      "|           $                                     |\n",
      "|             $                                   |\n",
      "|               $                                 |\n",
      "|                 $                               |\n",
      "|                   $                             |\n",
      "|                     $                           |\n",
      "|                       $                         |\n",
      "|                         $                       |\n",
      "|                           $                     |\n",
      "|                             $                   |\n",
      "|                            $                    |\n",
      "|                              $                  |\n",
      "|                             $                   |\n",
      "|                               $                 |\n",
      "|                              $                  |\n",
      "|                                $                |\n",
      "|                               $                 |\n",
      "|                                 $               |\n",
      "|                                   $             |\n",
      "|                                  $              |\n",
      "|                                    $            |\n",
      "|                                      $          |\n",
      "|                                        $        |\n",
      "|                                          $      |\n",
      "|                                            $    |\n",
      "|                                              $  |\n",
      "|                                                $|\n",
      "\n",
      "\n",
      "Win! after 36 matches.\n"
     ]
    }
   ],
   "source": [
    "#세번째 조각 게임 컨트롤\n",
    "#시작위치는 1 \n",
    "#종료까지 걸리는 횟수를 기록\n",
    "location=1\n",
    "trial=0\n",
    "print(\"게임을 시작하지..\\n\")\n",
    "\n",
    "print(drawMap(1))\n",
    "while(location<49):\n",
    "    coin=coinToss()\n",
    "    trial +=1\n",
    "    if(coin ==\"Win\"): #Win\n",
    "        location +=2 if (location<48) else 1#만약에 로케이션이 48이상이면 2가 아니라 1을 더한다\n",
    "    else:# Lose\n",
    "        location -=1 if (location >1) else 0#만약에 로케이션이 1인데 Lose면, 뒤로못가니까 1대신 0을 뺀다\n",
    "    print(drawMap(location))\n",
    "    \n",
    "print(\"\\n\\nWin! after {} matches.\".format(trial))"
   ]
  },
  {
   "cell_type": "code",
   "execution_count": 10,
   "metadata": {},
   "outputs": [
    {
     "name": "stdout",
     "output_type": "stream",
     "text": [
      "게임을 시작하지..\n",
      "\n",
      "|$                                                |\n",
      "|  $                                              |\n",
      "|    $                                            |\n",
      "|      $                                          |\n",
      "|     $                                           |\n",
      "|       $                                         |\n",
      "|         $                                       |\n",
      "|           $                                     |\n",
      "|             $                                   |\n",
      "|            $                                    |\n",
      "|              $                                  |\n",
      "|                $                                |\n",
      "|                  $                              |\n",
      "|                    $                            |\n",
      "|                      $                          |\n",
      "|                     $                           |\n",
      "|                       $                         |\n",
      "|                         $                       |\n",
      "|                        $                        |\n",
      "|                       $                         |\n",
      "|                         $                       |\n",
      "|                           $                     |\n",
      "|                          $                      |\n",
      "|                            $                    |\n",
      "|                              $                  |\n",
      "|                                $                |\n",
      "|                                  $              |\n",
      "|                                    $            |\n",
      "|                                      $          |\n",
      "|                                        $        |\n",
      "|                                       $         |\n",
      "|                                         $       |\n",
      "|                                        $        |\n",
      "|                                          $      |\n",
      "|                                         $       |\n",
      "|                                           $     |\n",
      "|                                             $   |\n",
      "|                                            $    |\n",
      "|                                           $     |\n",
      "|                                          $      |\n",
      "|                                         $       |\n",
      "|                                           $     |\n",
      "|                                             $   |\n",
      "|                                               $ |\n",
      "|                                                $|\n",
      "\n",
      "\n",
      "Win! after 44 matches.\n"
     ]
    }
   ],
   "source": [
    "#네번제 조각- 박진감\n",
    "#time.sleep(t) t초간 프로그램 수행을 중단\n",
    "\n",
    "import time\n",
    "location =1\n",
    "trial=0\n",
    "print(\"게임을 시작하지..\\n\")\n",
    "print(drawMap(1))\n",
    "while(location<49):\n",
    "    time.sleep(0.5)\n",
    "    coin=coinToss()\n",
    "    trial +=1\n",
    "    if(coin ==\"Win\"): #Win\n",
    "        location +=2 if (location<48) else 1\n",
    "    else:# Lose\n",
    "        location -=1 if (location >1) else 0\n",
    "    print(drawMap(location))\n",
    "    \n",
    "print(\"\\n\\nWin! after {} matches.\".format(trial))\n",
    "    "
   ]
  },
  {
   "cell_type": "code",
   "execution_count": 11,
   "metadata": {},
   "outputs": [
    {
     "name": "stdout",
     "output_type": "stream",
     "text": [
      "게임을 시작하지..\n",
      "\n",
      "|                                                $|\n",
      "\n",
      "Win! after 38 matches.\n"
     ]
    }
   ],
   "source": [
    "#네번째조각- 박진감.\n",
    "import time\n",
    "location =1\n",
    "trial=0\n",
    "print(\"게임을 시작하지..\\n\")\n",
    "print(drawMap(1),end=\"\\r\") #프린트를 이미 한곳에서 다시 한다! \n",
    "while(location<49):\n",
    "    time.sleep(0.3)\n",
    "    coin=coinToss()\n",
    "    trial +=1\n",
    "    if(coin ==\"Win\"): #Win\n",
    "        location +=2 if (location<48) else 1 \n",
    "    else:# Lose\n",
    "        location -=1 if (location >1) else 0\n",
    "    print(drawMap(location),end=\"\\r\")\n",
    "    \n",
    "print(\"\\n\\nWin! after {} matches.\".format(trial))\n",
    "    "
   ]
  },
  {
   "cell_type": "code",
   "execution_count": 12,
   "metadata": {},
   "outputs": [
    {
     "name": "stdout",
     "output_type": "stream",
     "text": [
      "게임을 시작하지..\n",
      "\n",
      "|                                                $|\n",
      "\n",
      "Win! after 42 matches.\n"
     ]
    }
   ],
   "source": [
    "#$에 꼬리달기도 해봥\n",
    "#올라갈때는 _$, 내려갈때는 $_ 하면 될거같습니다\n",
    "#네번째조각- 박진감.\n",
    "\n",
    "import time\n",
    "location =1\n",
    "trial=0\n",
    "print(\"게임을 시작하지..\\n\")\n",
    "print(drawMap(1),end=\"\\r\") #프린트를 이미 한곳에서 다시 한다임! \n",
    "while(location<49):\n",
    "    time.sleep(0.3)\n",
    "    coin=coinToss()\n",
    "    trial +=1\n",
    "    if(coin ==\"Win\"): #Win\n",
    "        location +=2 if (location<48) else 1\n",
    "    else:# Lose\n",
    "        location -=1 if (location >1) else 0\n",
    "    print(drawMap(location),end=\"\\r\")\n",
    "    \n",
    "print(\"\\n\\nWin! after {} matches.\".format(trial))\n",
    "    \n"
   ]
  },
  {
   "cell_type": "code",
   "execution_count": null,
   "metadata": {
    "collapsed": true
   },
   "outputs": [],
   "source": []
  }
 ],
 "metadata": {
  "kernelspec": {
   "display_name": "Python 3",
   "language": "python",
   "name": "python3"
  },
  "language_info": {
   "codemirror_mode": {
    "name": "ipython",
    "version": 3
   },
   "file_extension": ".py",
   "mimetype": "text/x-python",
   "name": "python",
   "nbconvert_exporter": "python",
   "pygments_lexer": "ipython3",
   "version": "3.6.3"
  }
 },
 "nbformat": 4,
 "nbformat_minor": 2
}
