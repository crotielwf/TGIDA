{
 "cells": [
  {
   "cell_type": "code",
   "execution_count": 1,
   "metadata": {
    "scrolled": true
   },
   "outputs": [
    {
     "name": "stdout",
     "output_type": "stream",
     "text": [
      "loading package\n"
     ]
    }
   ],
   "source": [
    "#LOADING PACKAGE\n",
    "import numpy as np\n",
    "print(\"loading package\")"
   ]
  },
  {
   "cell_type": "code",
   "execution_count": 2,
   "metadata": {},
   "outputs": [
    {
     "name": "stdout",
     "output_type": "stream",
     "text": [
      "hello, world\n"
     ]
    }
   ],
   "source": [
    "#PRINT FUNCITON\n",
    "print(\"hello, world\")"
   ]
  },
  {
   "cell_type": "code",
   "execution_count": 3,
   "metadata": {},
   "outputs": [
    {
     "name": "stdout",
     "output_type": "stream",
     "text": [
      "integer:13,13,013,0013,00013\n"
     ]
    }
   ],
   "source": [
    "# PRINT WITH ARGUMENTS\n",
    "# 1. INTERGER\n",
    "x=13;\n",
    "print(\"integer:%01d,%02d,%03d,%04d,%05d\" %(x,x,x,x,x))\n",
    "\n"
   ]
  },
  {
   "cell_type": "code",
   "execution_count": 4,
   "metadata": {},
   "outputs": [
    {
     "name": "stdout",
     "output_type": "stream",
     "text": [
      "Float:3,3.5,3.46,3.46,3.46\n"
     ]
    }
   ],
   "source": [
    "# 2. FLOAT\n",
    "x=3.456;\n",
    "print(\"Float:%.0f,%0.1f,%.2f,%1.2f,%2.2f\"%(x,x,x,x,x))"
   ]
  },
  {
   "cell_type": "code",
   "execution_count": 5,
   "metadata": {
    "scrolled": true
   },
   "outputs": [
    {
     "name": "stdout",
     "output_type": "stream",
     "text": [
      "String:[hello,world],[hello,world],[         hello,world]\n"
     ]
    }
   ],
   "source": [
    "# 3. STRING\n",
    "x=\"hello,world\"\n",
    "\n",
    "print(\"String:[%s],[%3s],[%20s]\"%(x,x,x))"
   ]
  },
  {
   "cell_type": "code",
   "execution_count": 6,
   "metadata": {},
   "outputs": [
    {
     "name": "stdout",
     "output_type": "stream",
     "text": [
      "[ann]\n",
      "[mlp]\n",
      "[cnn]\n",
      "[rnn]\n",
      "[dae]\n"
     ]
    }
   ],
   "source": [
    "# FOR LOOP\n",
    "dlmethods=[\"ann\",\"mlp\",\"cnn\",\"rnn\",\"dae\"]\n",
    "for alg in dlmethods:\n",
    "    print(\"[%s]\"%alg)"
   ]
  },
  {
   "cell_type": "code",
   "execution_count": 7,
   "metadata": {},
   "outputs": [
    {
     "name": "stdout",
     "output_type": "stream",
     "text": [
      "[0][ann]\n",
      "[1][mlp]\n",
      "[2][cnn]\n",
      "[3][rnn]\n",
      "[4][dae]\n"
     ]
    }
   ],
   "source": [
    "# FOR LOOP WITH INDEX\n",
    "dlmethods=[\"ann\",\"mlp\",\"cnn\",\"rnn\",\"dae\"]\n",
    "for i, alg in enumerate(dlmethods):\n",
    "    print(\"[%d][%s]\"%(i,alg))\n"
   ]
  },
  {
   "cell_type": "code",
   "execution_count": 8,
   "metadata": {},
   "outputs": [
    {
     "name": "stdout",
     "output_type": "stream",
     "text": [
      "[0][a]\n",
      "[1][b]\n",
      "[2][c]\n",
      "[3][d]\n",
      "[4][e]\n",
      "[5][f]\n",
      "[6][g]\n"
     ]
    }
   ],
   "source": [
    "#eumerate \n",
    "abc=\"abcdefg\"\n",
    "\n",
    "for i, abc in enumerate(abc):\n",
    "    print(\"[%d][%s]\"%(i,abc))"
   ]
  },
  {
   "cell_type": "code",
   "execution_count": 9,
   "metadata": {},
   "outputs": [
    {
     "name": "stdout",
     "output_type": "stream",
     "text": [
      "[ann] is a feed-forward network\n",
      "[mlp] is a feed-forward network\n",
      "[cnn] is a feed-forward network\n",
      "[rnn] is a recurrent network\n",
      "[dae]in an unsupervised method\n"
     ]
    }
   ],
   "source": [
    "# IF/ELSE\n",
    "\n",
    "dlmethods=[\"ann\",\"mlp\",\"cnn\",\"rnn\",\"dae\"]\n",
    "for alg in dlmethods:\n",
    "    if alg in[\"ann\",\"mlp\",\"cnn\"]:\n",
    "        print(\"[%s] is a feed-forward network\"%(alg))\n",
    "    elif alg in[\"rnn\"]:\n",
    "        print (\"[%s] is a recurrent network\"%(alg))\n",
    "    else:\n",
    "        print(\"[%s]in an unsupervised method\"%(alg))"
   ]
  },
  {
   "cell_type": "code",
   "execution_count": 10,
   "metadata": {},
   "outputs": [
    {
     "name": "stdout",
     "output_type": "stream",
     "text": [
      "function deffined\n",
      "[10]+[20] is[   30]\n"
     ]
    }
   ],
   "source": [
    "# FUNCTION\n",
    "def sum(a,b):\n",
    "    return a+b\n",
    "print(\"function deffined\")\n",
    "a=10\n",
    "b=20\n",
    "print(\"[%d]+[%d] is[%5d]\"%(a,b,sum(a,b)))"
   ]
  },
  {
   "cell_type": "code",
   "execution_count": 11,
   "metadata": {},
   "outputs": [
    {
     "name": "stdout",
     "output_type": "stream",
     "text": [
      "deep learning is Very excting\n",
      "deep learning is veryveryveryveryveryveryveryveryveryvery exciting\n"
     ]
    }
   ],
   "source": [
    "# STRING OPERATION\n",
    "head=\"deep learning\"\n",
    "body= \"Very\"\n",
    "tail=\" excting\"\n",
    "print(head+ \" is \" + body+ tail)\n",
    "\n",
    "\n",
    "head=\"deep learning\"\n",
    "body=\"very\"\n",
    "tail=\" exciting\"\n",
    "print(head+\" is \"+body*10+tail)"
   ]
  },
  {
   "cell_type": "code",
   "execution_count": 12,
   "metadata": {},
   "outputs": [
    {
     "name": "stdout",
     "output_type": "stream",
     "text": [
      "a:[[]],TYPE IS [<class 'list'>]\n",
      "[1, 2, 3]\n",
      "['x', 'y', 'z']\n",
      "[[1, 2, 3], ['x', 'y', 'z']]\n",
      "a\n",
      "b\n",
      "c\n",
      "['a', 'b', 'c']\n"
     ]
    }
   ],
   "source": [
    "# LIST\n",
    "a=[]\n",
    "print(\"a:[%s],TYPE IS [%s]\"%(a,type(a)))\n",
    "\n",
    "b=[1,2,3]\n",
    "c=['x','y','z']\n",
    "d=[b,c]\n",
    "\n",
    "print(b)\n",
    "print(c)\n",
    "print(d)\n",
    "\n",
    "# LIST USAGE 1\n",
    "\n",
    "a= ['a','b','c']\n",
    "for aval in a:\n",
    "    print(aval)\n",
    "    \n",
    "# LIST USAGE 2\n",
    "b=[]\n",
    "for aids in range(len(a)):\n",
    "    b.append(a[aids])\n",
    "\n",
    "print(b)"
   ]
  },
  {
   "cell_type": "code",
   "execution_count": 13,
   "metadata": {},
   "outputs": [
    {
     "name": "stdout",
     "output_type": "stream",
     "text": [
      "{'name': 'surgjoon', 'job': 'student'}\n",
      "{'name': 'surgjoon', 'job': 'student'}\n",
      "name is [surgjoon]\n",
      "job is [student]\n"
     ]
    }
   ],
   "source": [
    "# DICTIONARY INITIALIZE 1\n",
    "a=dict()\n",
    "a['name'] = 'surgjoon'\n",
    "a['job']='student'\n",
    "print(a)\n",
    "\n",
    "# DICTIONARY INITIALIZE 2\n",
    "b={'name':'surgjoon','job':'student'}\n",
    "print(b)\n",
    "\n",
    "\n",
    "# DICTIONARY USAGE\n",
    "print('name is [%s]' %(b['name']))\n",
    "print('job is [%s]'%(b['job']))"
   ]
  },
  {
   "cell_type": "code",
   "execution_count": 14,
   "metadata": {
    "scrolled": true
   },
   "outputs": [
    {
     "name": "stdout",
     "output_type": "stream",
     "text": [
      "class defined.\n",
      "hello,[Sungjoon]\n",
      "boo[Sungjoon]\n",
      "Boo[SUNGJOON]\n"
     ]
    }
   ],
   "source": [
    "# CLASS\n",
    "class foo:\n",
    "    #CONTRUCTOR 생성자\n",
    "    def __init__(self,name):\n",
    "        self.name=name\n",
    "        print(\"hello,[%s]\"%(self.name))\n",
    "    def boo(self,loud=False):\n",
    "        if loud:\n",
    "            print('Boo[%s]'%(self.name.upper()))\n",
    "        else:\n",
    "            print(\"boo[%s]\"%(self.name))\n",
    "print(\"class defined.\")\n",
    "\n",
    "\n",
    "# INSTANTIATE CLASS f는 foo 클래스의 인스턴스입니다.\n",
    "f=foo('Sungjoon')\n",
    "\n",
    "# CLASS USAGE\n",
    "f.boo()\n",
    "f.boo(loud=True)"
   ]
  },
  {
   "cell_type": "code",
   "execution_count": 15,
   "metadata": {
    "scrolled": true
   },
   "outputs": [
    {
     "name": "stdout",
     "output_type": "stream",
     "text": [
      "(1)Type is <class 'numpy.ndarray'>\n",
      "(2)Shpae is (3,)\n",
      "(3)Valuse are: \n",
      "[1 2 3]\n",
      "(1)Type is <class 'numpy.ndarray'>\n",
      "(2)Shpae is (3,)\n",
      "(3)Valuse are: \n",
      "[5 2 3]\n",
      "(1)Type is <class 'numpy.ndarray'>\n",
      "(2)Shpae is (2, 3)\n",
      "(3)Valuse are: \n",
      "[[1 2 3]\n",
      " [4 5 6]]\n"
     ]
    }
   ],
   "source": [
    "# NUMPY\n",
    "import numpy as np\n",
    "def print_np(x):\n",
    "    print(\"(1)Type is %s\"%(type(x)))\n",
    "    print(\"(2)Shpae is %s\"%(x.shape,))\n",
    "    print(\"(3)Valuse are: \\n%s\"%(x))\n",
    "\n",
    "# RANK 1 ARRAY\n",
    "x=np.array([1,2,3])\n",
    "print_np(x)\n",
    "x[0]=5\n",
    "print_np(x)\n",
    "\n",
    "# RANK 2 ARRAY\n",
    "y=np.array([[1,2,3],[4,5,6]])\n",
    "print_np(y)"
   ]
  },
  {
   "cell_type": "code",
   "execution_count": 16,
   "metadata": {},
   "outputs": [
    {
     "name": "stdout",
     "output_type": "stream",
     "text": [
      "(1)Type is <class 'numpy.ndarray'>\n",
      "(2)Shpae is (3, 2)\n",
      "(3)Valuse are: \n",
      "[[ 0.  0.]\n",
      " [ 0.  0.]\n",
      " [ 0.  0.]]\n",
      "(1)Type is <class 'numpy.ndarray'>\n",
      "(2)Shpae is (1, 2)\n",
      "(3)Valuse are: \n",
      "[[ 1.  1.]]\n",
      "(1)Type is <class 'numpy.ndarray'>\n",
      "(2)Shpae is (3, 3)\n",
      "(3)Valuse are: \n",
      "[[ 1.  0.  0.]\n",
      " [ 0.  1.  0.]\n",
      " [ 0.  0.  1.]]\n"
     ]
    }
   ],
   "source": [
    "# ZEROS\n",
    "a=np.zeros((3,2))\n",
    "print_np(a)\n",
    "\n",
    "# ONES\n",
    "b=np.ones((1,2))\n",
    "print_np(b)\n",
    "\n",
    "# IDENTITY\n",
    "c=np.eye(3,3)\n",
    "print_np(c)"
   ]
  },
  {
   "cell_type": "code",
   "execution_count": 17,
   "metadata": {},
   "outputs": [
    {
     "name": "stdout",
     "output_type": "stream",
     "text": [
      "(1)Type is <class 'numpy.ndarray'>\n",
      "(2)Shpae is (2, 2)\n",
      "(3)Valuse are: \n",
      "[[ 0.84875473  0.12394296]\n",
      " [ 0.42110051  0.06916861]]\n",
      "(1)Type is <class 'numpy.ndarray'>\n",
      "(2)Shpae is (1, 5)\n",
      "(3)Valuse are: \n",
      "[[ 1.22165581  0.36991267 -2.71504589 -0.2029723  -0.62496244]]\n"
     ]
    }
   ],
   "source": [
    "#랜덤 유니폼\n",
    "d=np.random.random((2,2))\n",
    "print_np(d)\n",
    "\n",
    "\n",
    "#랜덤 가우시안\n",
    "e=np.random.randn(1,5)\n",
    "print_np(e)\n"
   ]
  },
  {
   "cell_type": "code",
   "execution_count": 18,
   "metadata": {},
   "outputs": [
    {
     "name": "stdout",
     "output_type": "stream",
     "text": [
      "(1)Type is <class 'numpy.ndarray'>\n",
      "(2)Shpae is (3, 4)\n",
      "(3)Valuse are: \n",
      "[[ 1  2  3  4]\n",
      " [ 5  6  7  8]\n",
      " [ 9 10 11 12]]\n",
      "(1)Type is <class 'numpy.ndarray'>\n",
      "(2)Shpae is (2, 2)\n",
      "(3)Valuse are: \n",
      "[[2 3]\n",
      " [6 7]]\n"
     ]
    }
   ],
   "source": [
    "#ARRAY INDEXING\n",
    "a=np.array([[1,2,3,4],[5,6,7,8],[9,10,11,12]])\n",
    "print_np(a)\n",
    "\n",
    "b=a[:2,1:3]\n",
    "print_np(b)"
   ]
  },
  {
   "cell_type": "code",
   "execution_count": 19,
   "metadata": {},
   "outputs": [
    {
     "name": "stdout",
     "output_type": "stream",
     "text": [
      "(1)Type is <class 'numpy.ndarray'>\n",
      "(2)Shpae is (3, 4)\n",
      "(3)Valuse are: \n",
      "[[ 1  2  3  4]\n",
      " [ 5  6  7  8]\n",
      " [ 9 10 11 12]]\n",
      "(1)Type is <class 'numpy.ndarray'>\n",
      "(2)Shpae is (4,)\n",
      "(3)Valuse are: \n",
      "[5 6 7 8]\n",
      "(1)Type is <class 'numpy.ndarray'>\n",
      "(2)Shpae is (1, 4)\n",
      "(3)Valuse are: \n",
      "[[5 6 7 8]]\n",
      "(1)Type is <class 'numpy.ndarray'>\n",
      "(2)Shpae is (1, 4)\n",
      "(3)Valuse are: \n",
      "[[5 6 7 8]]\n"
     ]
    }
   ],
   "source": [
    "#GET ROW\n",
    "a=np.array([[1,2,3,4],[5,6,7,8],[9,10,11,12]])\n",
    "print_np(a)\n",
    "\n",
    "row_r1=a[1,:] # Rank 1 view of the second row of a\n",
    "row_r2=a[1:2,:] # Rank 2 view of the second row of a\n",
    "row_r3=a[[1],:] # Rank 2 view of the second row of a\n",
    "\n",
    "# WHAT IS DIFFRENT?\n",
    "print_np(row_r1)\n",
    "print_np(row_r2)\n",
    "print_np(row_r3)\n"
   ]
  },
  {
   "cell_type": "code",
   "execution_count": 20,
   "metadata": {},
   "outputs": [
    {
     "name": "stdout",
     "output_type": "stream",
     "text": [
      "(1)Type is <class 'numpy.ndarray'>\n",
      "(2)Shpae is (2,)\n",
      "(3)Valuse are: \n",
      "[1 2]\n",
      "(1)Type is <class 'numpy.ndarray'>\n",
      "(2)Shpae is (2,)\n",
      "(3)Valuse are: \n",
      "[ 1.  2.]\n",
      "(1)Type is <class 'numpy.ndarray'>\n",
      "(2)Shpae is (2,)\n",
      "(3)Valuse are: \n",
      "[1 2]\n",
      "(1)Type is <class 'numpy.ndarray'>\n",
      "(2)Shpae is (2,)\n",
      "(3)Valuse are: \n",
      "[1 2]\n"
     ]
    }
   ],
   "source": [
    "#DIFFERENT TYPES\n",
    "x=np.array([1,2])\n",
    "y=np.array([1.0,2.0])\n",
    "z=np.array([1,2],dtype=np.int64)\n",
    "\n",
    "print_np(x)\n",
    "print_np(y)\n",
    "print_np(z)\n",
    "\n",
    "y2=y.astype(np.int64) # 정수형으로 변환!\n",
    "print_np(y2)"
   ]
  },
  {
   "cell_type": "code",
   "execution_count": 21,
   "metadata": {},
   "outputs": [
    {
     "name": "stdout",
     "output_type": "stream",
     "text": [
      "(1)Type is <class 'numpy.ndarray'>\n",
      "(2)Shpae is (2, 2)\n",
      "(3)Valuse are: \n",
      "[[ 1.  2.]\n",
      " [ 3.  4.]]\n",
      "(1)Type is <class 'numpy.ndarray'>\n",
      "(2)Shpae is (2, 2)\n",
      "(3)Valuse are: \n",
      "[[ 5.  6.]\n",
      " [ 7.  8.]]\n"
     ]
    }
   ],
   "source": [
    "#ARRAY MATH\n",
    "\n",
    "x=np.array([[1,2],[3,4]],dtype=np.float64)\n",
    "y=np.array([[5,6],[7,8]],dtype=np.float64)\n",
    "print_np(x)\n",
    "print_np(y)"
   ]
  },
  {
   "cell_type": "code",
   "execution_count": 22,
   "metadata": {},
   "outputs": [
    {
     "name": "stdout",
     "output_type": "stream",
     "text": [
      "[[  6.   8.]\n",
      " [ 10.  12.]]\n",
      "[[  6.   8.]\n",
      " [ 10.  12.]]\n",
      "[[  6.   8.]\n",
      " [ 10.  12.]]\n",
      "[[-4. -4.]\n",
      " [-4. -4.]]\n",
      "[[  5.  12.]\n",
      " [ 21.  32.]]\n",
      "[[  5.  12.]\n",
      " [ 21.  32.]]\n",
      "[[ 0.2         0.33333333]\n",
      " [ 0.42857143  0.5       ]]\n",
      "[[ 0.2         0.33333333]\n",
      " [ 0.42857143  0.5       ]]\n"
     ]
    }
   ],
   "source": [
    "#ADD\n",
    "print(x+y)\n",
    "print(np.add(x,y))\n",
    "\n",
    "#SUBTRACT\n",
    "print(x+y)\n",
    "print(np.subtract(x,y))\n",
    "\n",
    "#PRODUCT\n",
    "print(x*y)\n",
    "print(np.multiply(x,y))\n",
    "\n",
    "#DIVSION\n",
    "print(x/y)\n",
    "print(np.divide(x,y))"
   ]
  },
  {
   "cell_type": "code",
   "execution_count": 23,
   "metadata": {},
   "outputs": [
    {
     "name": "stdout",
     "output_type": "stream",
     "text": [
      "(1)Type is <class 'numpy.ndarray'>\n",
      "(2)Shpae is (2, 2)\n",
      "(3)Valuse are: \n",
      "[[1 2]\n",
      " [3 4]]\n",
      "(1)Type is <class 'numpy.ndarray'>\n",
      "(2)Shpae is (2, 2)\n",
      "(3)Valuse are: \n",
      "[[5 6]\n",
      " [7 8]]\n",
      "(1)Type is <class 'numpy.ndarray'>\n",
      "(2)Shpae is (2,)\n",
      "(3)Valuse are: \n",
      "[ 9 10]\n",
      "(1)Type is <class 'numpy.ndarray'>\n",
      "(2)Shpae is (2,)\n",
      "(3)Valuse are: \n",
      "[11 12]\n",
      "219\n",
      "219\n",
      "[29 67]\n",
      "[29 67]\n",
      "[[19 22]\n",
      " [43 50]]\n",
      "[[19 22]\n",
      " [43 50]]\n"
     ]
    }
   ],
   "source": [
    "#MATRIX OPERATIONS\n",
    "x=np.array([[1,2],[3,4]])\n",
    "y=np.array([[5,6],[7,8]])\n",
    "v=np.array([9,10])\n",
    "w=np.array([11,12])\n",
    "\n",
    "print_np(x)\n",
    "print_np(y)\n",
    "print_np(v)\n",
    "print_np(w)\n",
    "\n",
    "#DOT PRODUCT\n",
    "print(v.dot(w))\n",
    "print(np.dot(v,w))# <=v*w'\n",
    "\n",
    "print(x.dot(v))\n",
    "print(np.dot(x,v))#<=x*v'\n",
    "\n",
    "print(x.dot(y))\n",
    "print(np.dot(x,y))"
   ]
  },
  {
   "cell_type": "code",
   "execution_count": 24,
   "metadata": {},
   "outputs": [
    {
     "name": "stdout",
     "output_type": "stream",
     "text": [
      "(1)Type is <class 'numpy.ndarray'>\n",
      "(2)Shpae is (2, 2)\n",
      "(3)Valuse are: \n",
      "[[1 2]\n",
      " [3 4]]\n",
      "(1)Type is <class 'numpy.ndarray'>\n",
      "(2)Shpae is (2, 2)\n",
      "(3)Valuse are: \n",
      "[[1 2]\n",
      " [3 4]]\n"
     ]
    }
   ],
   "source": [
    "# EMPTY_LIKE x의 형식만 결과로 리턴합니다\n",
    "y=np.empty_like(x) #https://docs.scipy.org/doc/numpy-1.14.0/reference/generated/numpy.empty_like.html\n",
    "y=np.copy(x) # x 똑같이 베끼자!\n",
    "print_np(x)\n",
    "print_np(y)"
   ]
  },
  {
   "cell_type": "code",
   "execution_count": 25,
   "metadata": {},
   "outputs": [
    {
     "name": "stdout",
     "output_type": "stream",
     "text": [
      "[[0 1]\n",
      " [2 3]]\n",
      "[[0 1]\n",
      " [2 3]]\n",
      "[[100   1]\n",
      " [  2   3]]\n",
      "[[100   1]\n",
      " [  2   3]]\n",
      "[[0 1]\n",
      " [2 3]]\n",
      "[[                100 4599676419421066581]\n",
      " [4601392076421969627 4602678819172646912]]\n",
      "[[0 1]\n",
      " [2 3]]\n"
     ]
    }
   ],
   "source": [
    "#INITIALIZE X\n",
    "x=np.array([[0,1],[2,3]])\n",
    "print(x)\n",
    "\n",
    "#COPY X TO Z\n",
    "z=x\n",
    "print(z)\n",
    "\n",
    "#CHANGE VALUE IN Z\n",
    "z[0,0]= 100\n",
    "print(z)\n",
    "\n",
    "#THEN, WHAT HAPPENS TO X?\n",
    "print(x)   # z를 바꿨는데 x까지 변했다 이상하다!! 어떻게 해야하노?\n",
    "\n",
    "\n",
    "x=np.array([[0,1],[2,3]])\n",
    "print(x)\n",
    "\n",
    "z=np.empty_like(x)\n",
    "z[0,0]=100\n",
    "print(z)\n",
    "\n",
    "print(x)\n",
    "\n"
   ]
  },
  {
   "cell_type": "code",
   "execution_count": 26,
   "metadata": {},
   "outputs": [
    {
     "name": "stdout",
     "output_type": "stream",
     "text": [
      "(1)Type is <class 'numpy.ndarray'>\n",
      "(2)Shpae is (5,)\n",
      "(3)Valuse are: \n",
      "[0 1 2 3 4]\n",
      "(1)Type is <class 'numpy.ndarray'>\n",
      "(2)Shpae is (1, 10)\n",
      "(3)Valuse are: \n",
      "[[0 1 2 3 4 0 1 2 3 4]]\n",
      "(1)Type is <class 'numpy.ndarray'>\n",
      "(2)Shpae is (2, 5)\n",
      "(3)Valuse are: \n",
      "[[0 1 2 3 4]\n",
      " [0 1 2 3 4]]\n"
     ]
    }
   ],
   "source": [
    "#TILE\n",
    "\n",
    "v=np.array([0,1,2,3,4])\n",
    "print_np(v)\n",
    "\n",
    "w=np.tile(v,(1,2))\n",
    "print_np(w)\n",
    "\n",
    "w=np.tile(v,(2,1))\n",
    "print_np(w)\n"
   ]
  },
  {
   "cell_type": "code",
   "execution_count": 27,
   "metadata": {},
   "outputs": [
    {
     "name": "stdout",
     "output_type": "stream",
     "text": [
      "PLOT READY\n"
     ]
    },
    {
     "data": {
      "image/png": "[encoded data removed]",
      "text/plain": [
       "<matplotlib.figure.Figure at 0x1075579e8>"
      ]
     },
     "metadata": {},
     "output_type": "display_data"
    },
    {
     "data": {
      "image/png": "[encoded data removed]",
      "text/plain": [
       "<matplotlib.figure.Figure at 0x10d704c88>"
      ]
     },
     "metadata": {},
     "output_type": "display_data"
    }
   ],
   "source": [
    "#MATPLOTLIB\n",
    "import matplotlib.pyplot as plt\n",
    "%matplotlib inline\n",
    "print(\"PLOT READY\")\n",
    "\n",
    "#BASIC PLOT\n",
    "# COMPUTE the x and y coordinates for points on a sine curve\n",
    "\n",
    "x=np.arange(0,3*np.pi, 0.1)\n",
    "y=np.sin(x)\n",
    "\n",
    "#PLOT the points using matplotlib\n",
    "plt.plot(x,y)\n",
    "plt.show()\n",
    "\n",
    "#PLOT WITH LEGEND\n",
    "y_sin=np.sin(x)\n",
    "y_cos=np.cos(x)\n",
    "#PLOT the points using matplotlib\n",
    "\n",
    "plt.plot(x,y_sin)\n",
    "plt.plot(x,y_cos)\n",
    "plt.xlabel('x axis label')\n",
    "plt.ylabel('y axis label')\n",
    "plt.title('Sine and Cosine')\n",
    "plt.legend(['Sine','Cosine'])\n",
    "\n",
    "#SUBPLOT\n",
    "#COMPUTE the x and y coordinates for points\n",
    "#on sine and cosine curves\n",
    "x=np.arange(0,3*np.pi,0.1)\n",
    "y_sin=np.sin(x)\n",
    "y_cos=np.cos(x)\n",
    "\n",
    "\n",
    "#Set up a subplot gird that has height 2 and width 1\n",
    "# and set the first such subplot as active\n",
    "plt.subplot(1,2,1)\n",
    "\n",
    "#Make the first plot\n",
    "plt.plot(x,y_sin)\n",
    "plt.title('Sine')\n",
    "\n",
    "#Set the second subplot as acitve, and make the second plot\n",
    "plt.subplot(1,2,2)\n",
    "plt.plot(x,y_cos)\n",
    "plt.title('Cosine')\n",
    "\n",
    "#show the figure\n",
    "plt.show()\n",
    "\n",
    "\n"
   ]
  },
  {
   "cell_type": "code",
   "execution_count": null,
   "metadata": {
    "collapsed": true
   },
   "outputs": [],
   "source": []
  }
 ],
 "metadata": {
  "kernelspec": {
   "display_name": "Python 3",
   "language": "python",
   "name": "python3"
  },
  "language_info": {
   "codemirror_mode": {
    "name": "ipython",
    "version": 3
   },
   "file_extension": ".py",
   "mimetype": "text/x-python",
   "name": "python",
   "nbconvert_exporter": "python",
   "pygments_lexer": "ipython3",
   "version": "3.6.3"
  }
 },
 "nbformat": 4,
 "nbformat_minor": 2
}
