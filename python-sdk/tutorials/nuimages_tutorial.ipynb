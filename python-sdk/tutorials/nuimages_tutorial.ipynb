{
  "cells": [
    {
      "cell_type": "markdown",
      "metadata": {
        "id": "tcw0518F2xv5"
      },
      "source": [
        "# nuImages devkit tutorial\n",
        "\n",
        "Welcome to the nuImages tutorial.\n",
        "This demo assumes the database itself is available at `/data/sets/nuimages`, and loads a mini version of the dataset."
      ]
    },
    {
      "cell_type": "markdown",
      "metadata": {
        "id": "C3Cnij9A2xv7"
      },
      "source": [
        "## A Gentle Introduction to nuImages\n",
        "\n",
        "In this part of the tutorial, let us go through a top-down introduction of our database. Our dataset is structured as a relational database with tables, tokens and foreign keys. The tables are the following:\n",
        "\n",
        "1. `log` - Log from which the sample was extracted.\n",
        "2. `sample` - An annotated camera image with an associated timestamp and past and future images and pointclouds.\n",
        "3. `sample_data` - An image or pointcloud associated with a sample.\n",
        "4. `ego_pose` - The vehicle ego pose and timestamp associated with a sample_data.\n",
        "5. `sensor` - General information about a sensor, e.g. `CAM_BACK_LEFT`.\n",
        "6. `calibrated_sensor` - Calibration information of a sensor in a log.\n",
        "7. `category` - Taxonomy of object and surface categories (e.g. `vehicle.car`, `flat.driveable_surface`).\n",
        "8. `attribute` - Property of an object that can change while the category remains the same.\n",
        "9. `object_ann` - Bounding box and mask annotation of an object (e.g. car, adult).\n",
        "10. `surface_ann` - Mask annotation of a surface (e.g. `flat.driveable surface` and `vehicle.ego`).\n",
        "\n",
        "The database schema is visualized below. For more information see the [schema page](https://github.com/nutonomy/nuscenes-devkit/blob/master/docs/schema_nuimages.md).\n",
        "![](https://www.nuscenes.org/public/images/nuimages-schema.svg)"
      ]
    },
    {
      "cell_type": "markdown",
      "metadata": {
        "id": "K6p-TGPf2xv8"
      },
      "source": [
        "## Google Colab (optional)\n",
        "\n",
        "<br>\n",
        "<a href=\"https://colab.research.google.com/github/nutonomy/nuscenes-devkit/blob/master/python-sdk/tutorials/nuimages_tutorial.ipynb\">\n",
        "    <img src=\"https://colab.research.google.com/assets/colab-badge.svg\" alt=\"Open In Colab\" align=\"left\">\n",
        "</a>\n",
        "<br>\n",
        "    \n",
        "If you are running this notebook in Google Colab, you can uncomment the cell below and run it; everything will be set up nicely for you. Otherwise, manually set up everything."
      ]
    },
    {
      "cell_type": "code",
      "execution_count": null,
      "metadata": {
        "id": "jXSExPEv2xv8"
      },
      "outputs": [],
      "source": [
        "# !mkdir -p /data/sets/nuimages  # Make the directory to store the nuImages dataset in.\n",
        "\n",
        "# !wget https://www.nuscenes.org/data/nuimages-v1.0-mini.tgz  # Download the nuImages mini split.\n",
        "\n",
        "# !tar -xf nuimages-v1.0-mini.tgz -C /data/sets/nuimages  # Uncompress the nuImages mini split.\n",
        "\n",
        "# !pip install nuscenes-devkit &> /dev/null  # Install nuImages."
      ]
    },
    {
      "cell_type": "markdown",
      "metadata": {
        "id": "mFWVoK602xv9"
      },
      "source": [
        "## Initialization\n",
        "To initialize the dataset class, we run the code below. We can change the dataroot parameter if the dataset is installed in a different folder. We can also omit it to use the default setup. These will be useful further below."
      ]
    },
    {
      "cell_type": "code",
      "execution_count": null,
      "metadata": {
        "id": "TWn10h-q2xv9"
      },
      "outputs": [],
      "source": [
        "%matplotlib inline\n",
        "%load_ext autoreload\n",
        "%autoreload 2\n",
        "from nuimages import NuImages\n",
        "\n",
        "nuim = NuImages(dataroot='/data/sets/nuimages', version='v1.0-mini', verbose=True, lazy=True)"
      ]
    },
    {
      "cell_type": "markdown",
      "metadata": {
        "id": "RiCHAuyZ2xv9"
      },
      "source": [
        "## Tables\n",
        "\n",
        "As described above, the NuImages class holds several tables. Each table is a list of records, and each record is a dictionary. For example the first record of the category table is stored at:"
      ]
    },
    {
      "cell_type": "code",
      "execution_count": null,
      "metadata": {
        "id": "lPtQv0_z2xv9"
      },
      "outputs": [],
      "source": [
        "nuim.category[0]"
      ]
    },
    {
      "cell_type": "markdown",
      "metadata": {
        "id": "_1jNP2s02xv9"
      },
      "source": [
        "To see the list of all tables, simply refer to the `table_names` variable:"
      ]
    },
    {
      "cell_type": "code",
      "execution_count": null,
      "metadata": {
        "id": "HogxdwOA2xv-"
      },
      "outputs": [],
      "source": [
        "nuim.table_names"
      ]
    },
    {
      "cell_type": "markdown",
      "metadata": {
        "id": "BCx2Kwbi2xv-"
      },
      "source": [
        "### Indexing\n",
        "\n",
        "Since all tables are lists of dictionaries, we can use standard Python operations on them. A very common operation is to retrieve a particular record by its token. Since this operation takes linear time, we precompute an index that helps to access a record in constant time.\n",
        "\n",
        "Let us select the first image in this dataset version and split:"
      ]
    },
    {
      "cell_type": "code",
      "execution_count": null,
      "metadata": {
        "id": "5AxP5mEk2xv-"
      },
      "outputs": [],
      "source": [
        "sample_idx = 0\n",
        "sample = nuim.sample[sample_idx]\n",
        "sample"
      ]
    },
    {
      "cell_type": "markdown",
      "metadata": {
        "id": "FiCON73Q2xv-"
      },
      "source": [
        "We can also get the sample record from a sample token:"
      ]
    },
    {
      "cell_type": "code",
      "execution_count": null,
      "metadata": {
        "id": "s7KB01762xv-"
      },
      "outputs": [],
      "source": [
        "sample = nuim.get('sample', sample['token'])\n",
        "sample"
      ]
    },
    {
      "cell_type": "markdown",
      "metadata": {
        "id": "4T-BPlo12xv-"
      },
      "source": [
        "What this does is actually to lookup the index. We see that this is the same index as we used in the first place."
      ]
    },
    {
      "cell_type": "code",
      "execution_count": null,
      "metadata": {
        "id": "vLbAsjWM2xv-"
      },
      "outputs": [],
      "source": [
        "sample_idx_check = nuim.getind('sample', sample['token'])\n",
        "assert sample_idx == sample_idx_check"
      ]
    },
    {
      "cell_type": "markdown",
      "metadata": {
        "id": "YnLiRrE12xv-"
      },
      "source": [
        "From the sample, we can directly access the corresponding keyframe sample data. This will be useful further below."
      ]
    },
    {
      "cell_type": "code",
      "execution_count": null,
      "metadata": {
        "id": "gFzSQfkx2xv-"
      },
      "outputs": [],
      "source": [
        "key_camera_token = sample['key_camera_token']\n",
        "print(key_camera_token)"
      ]
    },
    {
      "cell_type": "markdown",
      "metadata": {
        "id": "89J4BSDU2xv-"
      },
      "source": [
        "### Lazy loading\n",
        "\n",
        "Initializing the NuImages instance above was very fast, as we did not actually load the tables. Rather, the class implements lazy loading that overwrites the internal `__getattr__()` function to load a table if it is not already stored in memory. The moment we accessed `category`, we could see the table being loaded from disk. To disable such notifications, just set `verbose=False` when initializing the NuImages object. Furthermore lazy loading can be disabled with `lazy=False`."
      ]
    },
    {
      "cell_type": "markdown",
      "metadata": {
        "id": "MbxqXfBS2xv-"
      },
      "source": [
        "## Rendering\n",
        "\n",
        "To render an image we use the `render_image()` function. We can see the boxes and masks for each object category, as well as the surface masks for ego vehicle and driveable surface. We use the following colors:\n",
        "- vehicles: orange\n",
        "- bicycles and motorcycles: red\n",
        "- pedestrians: blue\n",
        "- cones and barriers: gray\n",
        "- driveable surface: teal / green\n",
        "\n",
        "At the top left corner of each box, we see the name of the object category (if `with_category=True`). We can also set `with_attributes=True` to print the attributes of each object (note that we can only set `with_attributes=True` to print the attributes of each object when `with_category=True`). In addition, we can specify if we want to see surfaces and objects, or only surfaces, or only objects, or neither by setting `with_annotations` to `all`, `surfaces`, `objects` and `none` respectively.\n",
        "\n",
        "Let us make the image bigger for better visibility by setting `render_scale=2`. We can also change the line width of the boxes using `box_line_width`. By setting it to -1, the line width adapts to the `render_scale`. Finally, we can render the image to disk using `out_path`."
      ]
    },
    {
      "cell_type": "code",
      "execution_count": null,
      "metadata": {
        "id": "9gssMabC2xv_"
      },
      "outputs": [],
      "source": [
        "nuim.render_image(key_camera_token, annotation_type='all',\n",
        "                  with_category=True, with_attributes=True, box_line_width=-1, render_scale=5)"
      ]
    },
    {
      "cell_type": "markdown",
      "metadata": {
        "id": "Ml5LFRS92xv_"
      },
      "source": [
        "Let us find out which annotations are in that image."
      ]
    },
    {
      "cell_type": "code",
      "execution_count": null,
      "metadata": {
        "id": "_PU71qp_2xv_"
      },
      "outputs": [],
      "source": [
        "object_tokens, surface_tokens = nuim.list_anns(sample['token'])"
      ]
    },
    {
      "cell_type": "markdown",
      "metadata": {
        "id": "xDaDKurq2xv_"
      },
      "source": [
        "We can see the object_ann and surface_ann tokens. Let's again render the image, but only focus on the first object and the first surface annotation. We can use the `object_tokens` and `surface_tokens` arguments as shown below. We see that only one car and the driveable surface are rendered."
      ]
    },
    {
      "cell_type": "code",
      "execution_count": null,
      "metadata": {
        "scrolled": true,
        "id": "9OkwBFHB2xv_"
      },
      "outputs": [],
      "source": [
        "nuim.render_image(key_camera_token, with_category=True, object_tokens=[object_tokens[0]], surface_tokens=[surface_tokens[0]])"
      ]
    },
    {
      "cell_type": "markdown",
      "metadata": {
        "id": "GhyWcVJ72xv_"
      },
      "source": [
        "To get the raw data (i.e. the segmentation masks, both semantic and instance) of the above, we can use `get_segmentation()`."
      ]
    },
    {
      "cell_type": "code",
      "execution_count": null,
      "metadata": {
        "id": "wyuzwGjR2xv_"
      },
      "outputs": [],
      "source": [
        "import matplotlib.pyplot as plt\n",
        "\n",
        "semantic_mask, instance_mask = nuim.get_segmentation(key_camera_token)\n",
        "\n",
        "plt.figure(figsize=(32, 9))\n",
        "\n",
        "plt.subplot(1, 2, 1)\n",
        "plt.imshow(semantic_mask)\n",
        "plt.subplot(1, 2, 2)\n",
        "plt.imshow(instance_mask)\n",
        "\n",
        "plt.show()"
      ]
    },
    {
      "cell_type": "markdown",
      "metadata": {
        "id": "chzRBGNP2xv_"
      },
      "source": [
        "Every annotated image (keyframe) comes with up to 6 past and 6 future images, spaced evenly at 500ms +- 250ms.  However, a small percentage of the samples has less sample_datas, either because they were at the beginning or end of a log, or due to delays or dropped data packages.\n",
        "`list_sample_content()` shows for each sample all the associated sample_datas."
      ]
    },
    {
      "cell_type": "code",
      "execution_count": null,
      "metadata": {
        "id": "3oYfs-JY2xv_"
      },
      "outputs": [],
      "source": [
        "nuim.list_sample_content(sample['token'])"
      ]
    },
    {
      "cell_type": "markdown",
      "metadata": {
        "id": "ie4MWqUB2xv_"
      },
      "source": [
        "Besides the annotated images, we can also render the 6 previous and 6 future images, which are not annotated. Let's select the next image, which is taken around 0.5s after the annotated image. We can either manually copy the token from the list above or use the `next` pointer of the `sample_data`."
      ]
    },
    {
      "cell_type": "code",
      "execution_count": null,
      "metadata": {
        "id": "eoa22jDl2xv_"
      },
      "outputs": [],
      "source": [
        "next_camera_token = nuim.get('sample_data', key_camera_token)['next']\n",
        "next_camera_token"
      ]
    },
    {
      "cell_type": "markdown",
      "metadata": {
        "id": "ZxuOi7KM2xv_"
      },
      "source": [
        "Now that we have the next token, let's render it. Note that we cannot render the annotations, as they don't exist.\n",
        "\n",
        "*Note: If you did not download the non-keyframes (sweeps), this will throw an error! We make sure to catch it here.*"
      ]
    },
    {
      "cell_type": "code",
      "execution_count": null,
      "metadata": {
        "id": "itendkpf2xv_"
      },
      "outputs": [],
      "source": [
        "try:\n",
        "    nuim.render_image(next_camera_token, annotation_type='none')\n",
        "except Exception as e:\n",
        "    print('As expected, we encountered this error:', e)"
      ]
    },
    {
      "cell_type": "markdown",
      "metadata": {
        "id": "yScQbl7E2xv_"
      },
      "source": [
        "In this section we have presented a number of rendering functions. For convenience we also provide a script `render_images.py` that runs one or all of these rendering functions on a random subset of the 93k samples in nuImages. To run it, simply execute the following line in your command line. This will save image, depth, pointcloud and trajectory renderings of the front camera to the specified folder."
      ]
    },
    {
      "cell_type": "markdown",
      "metadata": {
        "id": "GPpnkNnE2xv_"
      },
      "source": [
        "`>> python nuimages/scripts/render_images.py --mode all --cam_name CAM_FRONT --out_dir ~/Downloads/nuImages --out_type image`"
      ]
    },
    {
      "cell_type": "markdown",
      "metadata": {
        "id": "dw4AM7082xv_"
      },
      "source": [
        "Instead of rendering the annotated keyframe, we can also render a video of the 13 individual images, spaced at 2 Hz."
      ]
    },
    {
      "cell_type": "markdown",
      "metadata": {
        "id": "ydgvMhsX2xv_"
      },
      "source": [
        "`>> python nuimages/scripts/render_images.py --mode all --cam_name CAM_FRONT --out_dir ~/Downloads/nuImages --out_type video`"
      ]
    },
    {
      "cell_type": "markdown",
      "metadata": {
        "id": "4qia_EBG2xv_"
      },
      "source": [
        "## Poses and CAN bus data"
      ]
    },
    {
      "cell_type": "markdown",
      "metadata": {
        "id": "HYZiH_zL2xv_"
      },
      "source": [
        "The `ego_pose` provides the translation, rotation, rotation_rate, acceleration and speed measurements closest to each sample_data. We can visualize the trajectories of the ego vehicle throughout the 6s clip of each annotated keyframe. Here the red **x** indicates the start of the trajectory and the green **o** the position at the annotated keyframe.\n",
        "We can set `rotation_yaw` to have the driving direction at the time of the annotated keyframe point \"upwards\" in the plot. We can also set `rotation_yaw` to None to use the default orientation (upwards pointing North). To get the raw data of this plot, use `get_ego_pose_data()` or `get_trajectory()`."
      ]
    },
    {
      "cell_type": "code",
      "execution_count": null,
      "metadata": {
        "id": "5d9prFy-2xwD"
      },
      "outputs": [],
      "source": [
        "nuim.render_trajectory(sample['token'], rotation_yaw=0, center_key_pose=True)"
      ]
    },
    {
      "cell_type": "markdown",
      "metadata": {
        "id": "-X6iyFow2xwE"
      },
      "source": [
        "## Statistics\n",
        "\n",
        "The `list_*()` methods are useful to get an overview of the dataset dimensions. Note that these statistics are always *for the current split* that we initialized the `NuImages` instance with, rather than the entire dataset."
      ]
    },
    {
      "cell_type": "code",
      "execution_count": null,
      "metadata": {
        "scrolled": true,
        "id": "E9BDd2vl2xwE"
      },
      "outputs": [],
      "source": [
        "nuim.list_logs()"
      ]
    },
    {
      "cell_type": "markdown",
      "metadata": {
        "id": "eolbLyUB2xwE"
      },
      "source": [
        "`list_categories()` lists the category frequencies, as well as the category name and description. Each category is either an object or a surface, but not both."
      ]
    },
    {
      "cell_type": "code",
      "execution_count": null,
      "metadata": {
        "scrolled": true,
        "id": "zNjrccm-2xwE"
      },
      "outputs": [],
      "source": [
        "nuim.list_categories(sort_by='object_freq')"
      ]
    },
    {
      "cell_type": "markdown",
      "metadata": {
        "id": "_VG4HjtG2xwE"
      },
      "source": [
        "We can also specify a `sample_tokens` parameter for `list_categories()` to get the category statistics for a particular set of samples."
      ]
    },
    {
      "cell_type": "code",
      "execution_count": null,
      "metadata": {
        "id": "3Zng0LjB2xwE"
      },
      "outputs": [],
      "source": [
        "sample_tokens = [nuim.sample[9]['token']]\n",
        "nuim.list_categories(sample_tokens=sample_tokens)"
      ]
    },
    {
      "cell_type": "markdown",
      "metadata": {
        "id": "S_-ape3W2xwE"
      },
      "source": [
        "`list_attributes()` shows the frequency, name and description of all attributes:"
      ]
    },
    {
      "cell_type": "code",
      "execution_count": null,
      "metadata": {
        "id": "pmHcngNV2xwE"
      },
      "outputs": [],
      "source": [
        "nuim.list_attributes(sort_by='freq')"
      ]
    },
    {
      "cell_type": "markdown",
      "metadata": {
        "id": "NBp9o1HX2xwE"
      },
      "source": [
        "`list_cameras()` shows us how many camera entries and samples there are for each channel, such as the front camera.\n",
        "Each camera uses slightly different intrinsic parameters, which will be provided in a future release."
      ]
    },
    {
      "cell_type": "code",
      "execution_count": null,
      "metadata": {
        "id": "ZRXjkDD12xwE"
      },
      "outputs": [],
      "source": [
        "nuim.list_cameras()"
      ]
    },
    {
      "cell_type": "markdown",
      "metadata": {
        "id": "T_btUiIz2xwE"
      },
      "source": [
        "`list_sample_data_histogram()` shows a histogram of the number of images per annotated keyframe. Note that there are at most 13 images per keyframe. For the mini split shown here, all keyframes have 13 images."
      ]
    },
    {
      "cell_type": "code",
      "execution_count": null,
      "metadata": {
        "id": "5tsxBIF92xwE"
      },
      "outputs": [],
      "source": [
        "nuim.list_sample_data_histogram()"
      ]
    }
  ],
  "metadata": {
    "kernelspec": {
      "display_name": "Python 3",
      "language": "python",
      "name": "python3"
    },
    "language_info": {
      "codemirror_mode": {
        "name": "ipython",
        "version": 3
      },
      "file_extension": ".py",
      "mimetype": "text/x-python",
      "name": "python",
      "nbconvert_exporter": "python",
      "pygments_lexer": "ipython3",
      "version": "3.7.7"
    },
    "colab": {
      "provenance": []
    }
  },
  "nbformat": 4,
  "nbformat_minor": 0
}