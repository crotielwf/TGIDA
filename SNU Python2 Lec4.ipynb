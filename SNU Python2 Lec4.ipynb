{
 "cells": [
  {
   "cell_type": "code",
   "execution_count": 1,
   "metadata": {
    "collapsed": true
   },
   "outputs": [],
   "source": [
    "#파일처리\n",
    "#파일 익기와 쓰기\n",
    "#open(file,mode='r',buffering=-1,encoding=None,erros=None,\n",
    "#newline=None, closedfd=True,opener=None)\n",
    "#모드가 여러가지가 있는데\n",
    "#'r'읽기모드가 디폴트임. 'w':쓰기용, 기존의 파일위에 확 씌워버림, 지워버리고 새로씀. 조심해야한다.\n",
    "#'x': w와 동일하지만 이미 존재하는경우 에러발생\n",
    "#'a': w와 동일하지만 이미 존재하는 경우 파일의 마지막에 내용을 추가\n",
    "#'b':이진모드\n",
    "#'t':텍스트모드 기본값\n",
    "#'+': 업데이트 용으로 디스크 파일 열기\n",
    "#쥬피터노트 디폴트 디렉토리는 Home에 되어있는데로 볼수있습니당\n",
    "#내가 가고싶은 디렉토리가 있으면 open('data/고향의봄.txt',mode='r',encoding='utf-8') 이렇게 가능하당\n",
    "\n",
    "file=open('고향의 봄.txt',mode='w',encoding='utf-8')\n",
    "file.write('========고향의 봄=========\\n\\n')\n",
    "file.write('나의 살-던 고향은 꽃피는-산골-\\n')\n",
    "file.write('복숭아-꽃 살-구꽃 아-기 진-달래\\n')\n",
    "file.write('울긋불-긋 꽃 대궐 차리인-동네-\\n')\n",
    "file.write('그 속에서 놀던 때가 그립습니다-\\n')\n",
    "file.close()"
   ]
  },
  {
   "cell_type": "code",
   "execution_count": 2,
   "metadata": {},
   "outputs": [
    {
     "name": "stdout",
     "output_type": "stream",
     "text": [
      "========고향의 봄=========\n",
      "\n",
      "나의 살-던 고향은 꽃피는-산골-\n",
      "복숭아-꽃 살-구꽃 아-기 진-달래\n",
      "울긋불-긋 꽃 대궐 차리인-동네-\n",
      "그 속에서 놀던 때가 그립습니다-\n",
      "\n"
     ]
    }
   ],
   "source": [
    "file=open('고향의 봄.txt',encoding='utf-8')\n",
    "print(file.read())"
   ]
  },
  {
   "cell_type": "code",
   "execution_count": 3,
   "metadata": {
    "scrolled": true
   },
   "outputs": [
    {
     "name": "stdout",
     "output_type": "stream",
     "text": [
      "========고향의 봄=========\n",
      "\n",
      "나의 살-던 고향은 꽃피는-산골-\n",
      "복숭아-꽃 살-구꽃 아-기 진-달래\n",
      "울긋불-긋 꽃 대궐 차리인-동네-\n",
      "그 속에서 놀던 때가 그립습니다-\n",
      "\n",
      "꽃-동-네 새 동네 나의 옛-고향-\n",
      "파-란-들 남쪽에서 바-람이-불면-\n",
      "냇-가에 수양버들 춤추는-동네\n",
      "그 속에서 놀던 때가 그립습니다-\n",
      "\n"
     ]
    }
   ],
   "source": [
    "file=open('고향의 봄.txt',mode='a',encoding='utf-8') #아래쪽에 2절 append 한다\n",
    "file.write('\\n꽃-동-네 새 동네 나의 옛-고향-\\n')\n",
    "file.write('파-란-들 남쪽에서 바-람이-불면-\\n냇-가에 수양버들 춤추는-동네\\n')\n",
    "file.write('그 속에서 놀던 때가 그립습니다-\\n')\n",
    "file.close()\n",
    "file=open('고향의 봄.txt',encoding='utf-8')\n",
    "print(file.read())\n"
   ]
  },
  {
   "cell_type": "code",
   "execution_count": 4,
   "metadata": {},
   "outputs": [
    {
     "name": "stdout",
     "output_type": "stream",
     "text": [
      "\n"
     ]
    }
   ],
   "source": [
    "print(file.read(11))"
   ]
  },
  {
   "cell_type": "code",
   "execution_count": 5,
   "metadata": {},
   "outputs": [
    {
     "ename": "FileNotFoundError",
     "evalue": "[Errno 2] No such file or directory: 'input.txt'",
     "output_type": "error",
     "traceback": [
      "\u001b[0;31m---------------------------------------------------------------------------\u001b[0m",
      "\u001b[0;31mFileNotFoundError\u001b[0m                         Traceback (most recent call last)",
      "\u001b[0;32m<ipython-input-5-2e6937de85c6>\u001b[0m in \u001b[0;36m<module>\u001b[0;34m()\u001b[0m\n\u001b[1;32m      2\u001b[0m \u001b[0;34m\u001b[0m\u001b[0m\n\u001b[1;32m      3\u001b[0m \u001b[0;31m#윈도우,맥,리눅스에서 만든 영어파일을 읽을경우 아래코드 사용\u001b[0m\u001b[0;34m\u001b[0m\u001b[0;34m\u001b[0m\u001b[0m\n\u001b[0;32m----> 4\u001b[0;31m \u001b[0mfile\u001b[0m\u001b[0;34m=\u001b[0m\u001b[0mopen\u001b[0m\u001b[0;34m(\u001b[0m\u001b[0;34m'input.txt'\u001b[0m\u001b[0;34m)\u001b[0m\u001b[0;31m#대부분의 경우 작동함\u001b[0m\u001b[0;34m\u001b[0m\u001b[0m\n\u001b[0m\u001b[1;32m      5\u001b[0m \u001b[0;34m\u001b[0m\u001b[0m\n\u001b[1;32m      6\u001b[0m \u001b[0;31m#윈도우에서 만든 한글파일을 윈도우에서 읽을경우 아래코드 사용\u001b[0m\u001b[0;34m\u001b[0m\u001b[0;34m\u001b[0m\u001b[0m\n",
      "\u001b[0;31mFileNotFoundError\u001b[0m: [Errno 2] No such file or directory: 'input.txt'"
     ]
    }
   ],
   "source": [
    "#문제가되는게 인코딩문제에요 읽어올떄..\n",
    "\n",
    "#윈도우,맥,리눅스에서 만든 영어파일을 읽을경우 아래코드 사용\n",
    "file=open('input.txt')#대부분의 경우 작동함\n",
    "\n",
    "#윈도우에서 만든 한글파일을 윈도우에서 읽을경우 아래코드 사용\n",
    "file=open('input.txt')#대부분의 경우 작동함\n",
    "\n",
    "#맥,리눅스에서 만든 한글 파일을 윈도우에서 읽을경우 아래코드 사용\n",
    "file=open('input.txt',encoding='utf-8')#대부분의 경우 작동함\n",
    "\n",
    "#맥,리눅스에서 만든 한글 파일을 맥,리눅스에서 읽을 경우 아래코드 사용\n",
    "file=open('input.txt')#대부분의 경우 작동함\n",
    "\n",
    "#윈도우에서 만든 한글파일 맥,리눅스에서 읽을경우\n",
    "file=open('input.txt',encoding='cp949') #대부분의경우 작동\n",
    "\n",
    "\n",
    "#운영체제 기본 값으로 파일을 쓸 경우는 아래 코드 사용\n",
    "file=open('output.txt',mode='w')#또는 간단히 open('output.txt','w')\n",
    "\n",
    "#모든 언어에서 인코딩방식으로 utf-8을 사용하도록 권장, 파일쓰기할경우 아래코드처럼 하기를 권장\n",
    "file=open('output.txt',mode='w',encoding='utf-8')\n"
   ]
  },
  {
   "cell_type": "code",
   "execution_count": 6,
   "metadata": {},
   "outputs": [
    {
     "ename": "FileNotFoundError",
     "evalue": "[Errno 2] No such file or directory: 'data/고향의 봄.txt'",
     "output_type": "error",
     "traceback": [
      "\u001b[0;31m---------------------------------------------------------------------------\u001b[0m",
      "\u001b[0;31mFileNotFoundError\u001b[0m                         Traceback (most recent call last)",
      "\u001b[0;32m<ipython-input-6-9a36dac0f27d>\u001b[0m in \u001b[0;36m<module>\u001b[0;34m()\u001b[0m\n\u001b[1;32m      4\u001b[0m \u001b[0;34m\u001b[0m\u001b[0m\n\u001b[1;32m      5\u001b[0m \u001b[0;31m#읽기모드로 파일열기\u001b[0m\u001b[0;34m\u001b[0m\u001b[0;34m\u001b[0m\u001b[0m\n\u001b[0;32m----> 6\u001b[0;31m \u001b[0mfile\u001b[0m\u001b[0;34m=\u001b[0m\u001b[0mopen\u001b[0m\u001b[0;34m(\u001b[0m\u001b[0;34m'data/고향의 봄.txt'\u001b[0m\u001b[0;34m,\u001b[0m\u001b[0mmode\u001b[0m\u001b[0;34m=\u001b[0m\u001b[0;34m'r'\u001b[0m\u001b[0;34m)\u001b[0m\u001b[0;34m\u001b[0m\u001b[0m\n\u001b[0m\u001b[1;32m      7\u001b[0m \u001b[0;34m\u001b[0m\u001b[0m\n\u001b[1;32m      8\u001b[0m \u001b[0mfile\u001b[0m\u001b[0;34m\u001b[0m\u001b[0m\n",
      "\u001b[0;31mFileNotFoundError\u001b[0m: [Errno 2] No such file or directory: 'data/고향의 봄.txt'"
     ]
    }
   ],
   "source": [
    "#file.read(size) 파일 끝 도달한경우 빈문자열 ''반환\n",
    "#file.readline(size=-1) 파일끝 도달한경우 새줄바꿈문자를 포함한 텍스트를 한줄의 문자열 반환\n",
    "#file.readlines(hint=-1) #각줄에 새줄바꿈 문자를 퐇마한 각줄을 리스트로 반환합니다\n",
    "\n",
    "#읽기모드로 파일열기\n",
    "file=open('data/고향의 봄.txt',mode='r')\n",
    "\n",
    "file\n",
    "print(file)\n",
    "file.close()\n"
   ]
  },
  {
   "cell_type": "code",
   "execution_count": 7,
   "metadata": {},
   "outputs": [
    {
     "name": "stdout",
     "output_type": "stream",
     "text": [
      "========고향의 봄=========\n",
      "\n",
      "나의 살-던 고향은 꽃피는-산골-\n",
      "복숭아-꽃 살-구꽃 아-기 진-달래\n",
      "울긋불-긋 꽃 대궐 차리인-동네-\n",
      "그 속에서 놀던 때가 그립습니다-\n",
      "\n",
      "꽃-동-네 새 동네 나의 옛-고향-\n",
      "파-란-들 남쪽에서 바-람이-불면-\n",
      "냇-가에 수양버들 춤추는-동네\n",
      "그 속에서 놀던 때가 그립습니다-\n"
     ]
    }
   ],
   "source": [
    "#while문으로 파일 전체 읽기\n",
    "file=open('고향의 봄.txt', encoding='utf-8')\n",
    "while True: #빈문자열이면 False가 되므로 나가야한다! \n",
    "    line=file.readline()\n",
    "    if not line:\n",
    "        break\n",
    "    print(line,end='')"
   ]
  },
  {
   "cell_type": "code",
   "execution_count": 8,
   "metadata": {},
   "outputs": [
    {
     "data": {
      "text/plain": [
       "''"
      ]
     },
     "execution_count": 8,
     "metadata": {},
     "output_type": "execute_result"
    }
   ],
   "source": [
    "file.readline() #빈문자열 나오죠?"
   ]
  },
  {
   "cell_type": "code",
   "execution_count": 9,
   "metadata": {
    "collapsed": true
   },
   "outputs": [],
   "source": [
    "file.close()"
   ]
  },
  {
   "cell_type": "code",
   "execution_count": 10,
   "metadata": {
    "scrolled": true
   },
   "outputs": [
    {
     "name": "stdout",
     "output_type": "stream",
     "text": [
      "========고향의 봄=========\n",
      "\n",
      "나의 살-던 고향은 꽃피는-산골-\n",
      "복숭아-꽃 살-구꽃 아-기 진-달래\n",
      "울긋불-긋 꽃 대궐 차리인-동네-\n",
      "그 속에서 놀던 때가 그립습니다-\n",
      "\n",
      "꽃-동-네 새 동네 나의 옛-고향-\n",
      "파-란-들 남쪽에서 바-람이-불면-\n",
      "냇-가에 수양버들 춤추는-동네\n",
      "그 속에서 놀던 때가 그립습니다-\n"
     ]
    }
   ],
   "source": [
    "#with문으로 파일 전체 읽기\n",
    "with open('고향의 봄.txt', encoding='utf=8') as file:\n",
    "    for line in file:\n",
    "        print(line,end='')# 또는 print(line.rstrip())"
   ]
  },
  {
   "cell_type": "code",
   "execution_count": 11,
   "metadata": {
    "collapsed": true
   },
   "outputs": [],
   "source": [
    "#readlines()함수\n",
    "\n",
    "\n"
   ]
  },
  {
   "cell_type": "code",
   "execution_count": 12,
   "metadata": {},
   "outputs": [
    {
     "name": "stdout",
     "output_type": "stream",
     "text": [
      "1: ========고향의 봄=========\n",
      "2: \n",
      "3: 나의 살-던 고향은 꽃피는-산골-\n",
      "4: 복숭아-꽃 살-구꽃 아-기 진-달래\n",
      "5: 울긋불-긋 꽃 대궐 차리인-동네-\n",
      "6: 그 속에서 놀던 때가 그립습니다-\n",
      "7: \n",
      "8: 꽃-동-네 새 동네 나의 옛-고향-\n",
      "9: 파-란-들 남쪽에서 바-람이-불면-\n",
      "10: 냇-가에 수양버들 춤추는-동네\n",
      "11: 그 속에서 놀던 때가 그립습니다-\n"
     ]
    }
   ],
   "source": [
    "#Lab: 각 줄 번호 입력\n",
    "\n",
    "file=open('고향의 봄.txt', encoding='utf-8')\n",
    "i=0\n",
    "while True:\n",
    "    i +=1\n",
    "    line=file.readline()\n",
    "    if not line:\n",
    "        break\n",
    "    print(\"{}:\".format(i),line,end='')\n",
    "    \n"
   ]
  },
  {
   "cell_type": "code",
   "execution_count": 13,
   "metadata": {
    "scrolled": true
   },
   "outputs": [
    {
     "name": "stdout",
     "output_type": "stream",
     "text": [
      "    1:   ========고향의 봄=========\n",
      "    2:   \n",
      "    3:   나의 살-던 고향은 꽃피는-산골-\n",
      "    4:   복숭아-꽃 살-구꽃 아-기 진-달래\n",
      "    5:   울긋불-긋 꽃 대궐 차리인-동네-\n",
      "    6:   그 속에서 놀던 때가 그립습니다-\n",
      "    7:   \n",
      "    8:   꽃-동-네 새 동네 나의 옛-고향-\n",
      "    9:   파-란-들 남쪽에서 바-람이-불면-\n",
      "   10:   냇-가에 수양버들 춤추는-동네\n",
      "   11:   그 속에서 놀던 때가 그립습니다-\n"
     ]
    }
   ],
   "source": [
    "#Lab: 각 줄 번호 입력\n",
    "with open('고향의 봄.txt', encoding='utf-8') as file:\n",
    "    for i,line in enumerate(file):\n",
    "        print(\" {:4}:  \".format(i+1),line,end='') #end를 공백으로 하지않으면 한줄씩 점프점프 해서 띄워줌#\n",
    "                                                 #{:4}쓰면 자리수 정해줄수있지 개꿀.\n",
    "        #print(\"{:4}:{}.format(i,line.rstrip()))"
   ]
  },
  {
   "cell_type": "code",
   "execution_count": 14,
   "metadata": {
    "collapsed": true
   },
   "outputs": [],
   "source": [
    "#\n",
    "#with open('고향의 봄.txt', encoding='utf-8') as file:\n",
    "#    for i,line in enumerate(file):\n",
    "#        print(\"{}:\".format(i+1),line) "
   ]
  },
  {
   "cell_type": "code",
   "execution_count": 15,
   "metadata": {},
   "outputs": [
    {
     "name": "stdout",
     "output_type": "stream",
     "text": [
      "   0:========고향의 봄=========\n",
      "   1:\n",
      "   2:나의 살-던 고향은 꽃피는-산골-\n",
      "   3:복숭아-꽃 살-구꽃 아-기 진-달래\n",
      "   4:울긋불-긋 꽃 대궐 차리인-동네-\n",
      "   5:그 속에서 놀던 때가 그립습니다-\n",
      "   6:\n",
      "   7:꽃-동-네 새 동네 나의 옛-고향-\n",
      "   8:파-란-들 남쪽에서 바-람이-불면-\n",
      "   9:냇-가에 수양버들 춤추는-동네\n",
      "  10:그 속에서 놀던 때가 그립습니다-\n"
     ]
    }
   ],
   "source": [
    "with open('고향의 봄.txt', encoding='utf-8') as file:\n",
    "    for i,line in enumerate(file):\n",
    "        #print(\" {:4}:  \".format(i+1),line,end='') #end를 공백으로 하지않으면 한줄씩 점프점프 해서 띄워줌#\n",
    "                                                 #{:4}쓰면 자리수 정해줄수있지 개꿀.\n",
    "        print(\"{:4}:{}\".format(i,line.rstrip()))"
   ]
  },
  {
   "cell_type": "code",
   "execution_count": 16,
   "metadata": {
    "collapsed": true
   },
   "outputs": [],
   "source": [
    "#숫자형 데이터 읽기와 쓰기\n",
    "\n",
    "\n",
    "\n",
    "\n",
    "\n"
   ]
  },
  {
   "cell_type": "code",
   "execution_count": 17,
   "metadata": {},
   "outputs": [
    {
     "data": {
      "text/plain": [
       "<function TextIOWrapper.close>"
      ]
     },
     "execution_count": 17,
     "metadata": {},
     "output_type": "execute_result"
    }
   ],
   "source": [
    "#Lab: 데이터 파일 파싱 및 자료형 변환\n",
    "file= open('/Users/eunice/Desktop/abc.txt',mode='r', encoding='utf-8')\n",
    "#맥에서는 인코딩 문제가 발생할수있으니까 워드로 txt파일로 저장한다음에 불러오는걸로 하자!\n",
    "data=file.read().splitlines()\n",
    "file.close\n",
    "\n"
   ]
  },
  {
   "cell_type": "code",
   "execution_count": 18,
   "metadata": {},
   "outputs": [
    {
     "data": {
      "text/plain": [
       "['Kershaw/18/4/2.31', 'Jansen/5/0/1.32', 'Wood/16/3/2.72', 'Hill/12/8/3.32']"
      ]
     },
     "execution_count": 18,
     "metadata": {},
     "output_type": "execute_result"
    }
   ],
   "source": [
    "data\n"
   ]
  },
  {
   "cell_type": "code",
   "execution_count": 19,
   "metadata": {
    "collapsed": true
   },
   "outputs": [],
   "source": [
    "data_parsed=data\n",
    "for i in range(len(data_parsed)):\n",
    "    data_parsed[i]=data_parsed[i].split('/')\n",
    "#각 줄(열)이 /로 분리된 리스트로 변환되어 기존 리스트의 항목으로 저장되었음을 확인할 수 있음"
   ]
  },
  {
   "cell_type": "code",
   "execution_count": 20,
   "metadata": {},
   "outputs": [
    {
     "data": {
      "text/plain": [
       "[['Kershaw', '18', '4', '2.31'],\n",
       " ['Jansen', '5', '0', '1.32'],\n",
       " ['Wood', '16', '3', '2.72'],\n",
       " ['Hill', '12', '8', '3.32']]"
      ]
     },
     "execution_count": 20,
     "metadata": {},
     "output_type": "execute_result"
    }
   ],
   "source": [
    "data_parsed"
   ]
  },
  {
   "cell_type": "code",
   "execution_count": 21,
   "metadata": {},
   "outputs": [
    {
     "name": "stdout",
     "output_type": "stream",
     "text": [
      "뭔가 잘못됬음\n"
     ]
    }
   ],
   "source": [
    "#예외처리\n",
    "#프로그램 실행과 검증\n",
    "\n",
    "try:\n",
    "    15/0\n",
    "except ArithmeticError:\n",
    "    print('뭔가 잘못됬음')"
   ]
  },
  {
   "cell_type": "code",
   "execution_count": 22,
   "metadata": {},
   "outputs": [
    {
     "name": "stdout",
     "output_type": "stream",
     "text": [
      "뭔가 잘못됬음\n"
     ]
    }
   ],
   "source": [
    "try:\n",
    "    15/0\n",
    "except (ArithmeticError,ValueError,RuntimeError): #이러면 뭐가문젠지 알기힘들지 런타임에런지 밸류에런지..\n",
    "    print('뭔가 잘못됬음')"
   ]
  },
  {
   "cell_type": "code",
   "execution_count": 23,
   "metadata": {},
   "outputs": [
    {
     "name": "stdout",
     "output_type": "stream",
     "text": [
      "뭔가 잘못됬음 division by zero\n"
     ]
    }
   ],
   "source": [
    "try:\n",
    "    15/0\n",
    "except ArithmeticError as err:\n",
    "    print('뭔가 잘못됬음',err)"
   ]
  },
  {
   "cell_type": "code",
   "execution_count": 24,
   "metadata": {},
   "outputs": [
    {
     "name": "stdout",
     "output_type": "stream",
     "text": [
      "뭔가 잘못됬음 division by zero\n"
     ]
    }
   ],
   "source": [
    "\n",
    "try:\n",
    "    15/0\n",
    "except (ArithmeticError,ValueError,RuntimeError) as err: #이러면 뭐가문젠지 알기힘들지 런타임에런지 밸류에런지..\n",
    "    print('뭔가 잘못됬음', err)"
   ]
  },
  {
   "cell_type": "code",
   "execution_count": 25,
   "metadata": {},
   "outputs": [
    {
     "name": "stdout",
     "output_type": "stream",
     "text": [
      "뭔가 잘못된 것 같아요 ㅜㅜ\n"
     ]
    }
   ],
   "source": [
    "k=5\n",
    "n=0\n",
    "try:\n",
    "    x=[k/n]\n",
    "except: # 모든예외를 처리하기때문에 권장하지 않음\n",
    "    print(\"뭔가 잘못된 것 같아요 ㅜㅜ\")"
   ]
  },
  {
   "cell_type": "code",
   "execution_count": 26,
   "metadata": {},
   "outputs": [
    {
     "name": "stdout",
     "output_type": "stream",
     "text": [
      "ArithmeticError 예외가 발생했습니다.\n"
     ]
    }
   ],
   "source": [
    "#위에서부터 순서대로 확인하므로 위에거가 틀리면 아래거는 확인이 안됩니다.\n",
    "#except문 작성순서\n",
    "\n",
    "try:\n",
    "    15/0\n",
    "except ArithmeticError:\n",
    "    print('ArithmeticError 예외가 발생했습니다.')\n",
    "except ZeroDivisionError:\n",
    "    print('ZeroDivisionError 예외가 발생했습니다')\n",
    "    \n",
    "#이러면 안됨. 당연히 아리스메틱 예외만 나옴 아래 코드는 죽은 코드가 되어버린다. 아리스메틱 에러가 제로디비전에러를 포함함.\n",
    "\n"
   ]
  },
  {
   "cell_type": "code",
   "execution_count": 27,
   "metadata": {},
   "outputs": [
    {
     "name": "stdout",
     "output_type": "stream",
     "text": [
      "ZeroDivisionError 예외가 발생했습니다\n"
     ]
    }
   ],
   "source": [
    "try:\n",
    "    15/0\n",
    "except ZeroDivisionError:\n",
    "    print('ZeroDivisionError 예외가 발생했습니다')\n",
    "except ArithmeticError:\n",
    "    print('ArithmeticError 예외가 발생했습니다.')"
   ]
  },
  {
   "cell_type": "code",
   "execution_count": 28,
   "metadata": {
    "collapsed": true
   },
   "outputs": [],
   "source": [
    "#Lab:과일검색(1)\n",
    "\n",
    "\n",
    "#내풀인데.. 틀렷네\n",
    "\n",
    "fruits=['사과','딸기','바나나','블루베리','포도']\n",
    "index=0\n",
    "try:\n",
    "    yammy='사과'\n",
    "    while index==len(fruits):\n",
    "        if fruits[index]==yammy:\n",
    "            print(\"과일 목록의 {}번째에 존재합니다\".format(index+1))\n",
    "            break\n",
    "    \n",
    "except:\n",
    "    print(\"과일목록에 존재하지 않습니다.\")"
   ]
  },
  {
   "cell_type": "code",
   "execution_count": 29,
   "metadata": {},
   "outputs": [
    {
     "ename": "SyntaxError",
     "evalue": "unexpected EOF while parsing (<ipython-input-29-7d0f34b60334>, line 6)",
     "output_type": "error",
     "traceback": [
      "\u001b[0;36m  File \u001b[0;32m\"<ipython-input-29-7d0f34b60334>\"\u001b[0;36m, line \u001b[0;32m6\u001b[0m\n\u001b[0;31m    index\u001b[0m\n\u001b[0m         ^\u001b[0m\n\u001b[0;31mSyntaxError\u001b[0m\u001b[0;31m:\u001b[0m unexpected EOF while parsing\n"
     ]
    }
   ],
   "source": [
    "#교수님 풀이\n",
    "target=input(\"과일 이름을 입력하세요..:\")\n",
    "fruits=['사과','딸기','바나나','블루베리','포도']\n",
    "\n",
    "try:\n",
    "    index"
   ]
  }
 ],
 "metadata": {
  "kernelspec": {
   "display_name": "Python 3",
   "language": "python",
   "name": "python3"
  },
  "language_info": {
   "codemirror_mode": {
    "name": "ipython",
    "version": 3
   },
   "file_extension": ".py",
   "mimetype": "text/x-python",
   "name": "python",
   "nbconvert_exporter": "python",
   "pygments_lexer": "ipython3",
   "version": "3.6.3"
  }
 },
 "nbformat": 4,
 "nbformat_minor": 2
}
